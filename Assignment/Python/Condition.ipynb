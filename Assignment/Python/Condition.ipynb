{
 "cells": [
  {
   "cell_type": "markdown",
   "id": "411cc79c",
   "metadata": {},
   "source": [
    "# CONDITIONAL PROGRAMS"
   ]
  },
  {
   "cell_type": "markdown",
   "id": "5ab45e8f",
   "metadata": {},
   "source": [
    "# Find largset of numbers"
   ]
  },
  {
   "cell_type": "code",
   "execution_count": 11,
   "id": "447b4700",
   "metadata": {},
   "outputs": [
    {
     "name": "stdout",
     "output_type": "stream",
     "text": [
      "enter first number50\n",
      "enter second number100\n",
      "The largest number is 100\n"
     ]
    }
   ],
   "source": [
    "n1=int(input(\"enter first number\"))\n",
    "n2=int(input(\"enter second number\"))\n",
    "if n1>n2:\n",
    "    largest=n1\n",
    "else:\n",
    "    largest=n2\n",
    "print(\"The largest number is\", largest)"
   ]
  },
  {
   "cell_type": "code",
   "execution_count": 13,
   "id": "7930ea3e",
   "metadata": {},
   "outputs": [
    {
     "name": "stdout",
     "output_type": "stream",
     "text": [
      "enter first number100\n",
      "enter second number50\n",
      "The largest number is 100\n"
     ]
    }
   ],
   "source": [
    "n1=int(input(\"enter first number\"))\n",
    "n2=int(input(\"enter second number\"))\n",
    "if n1>n2:\n",
    "    largest=n1\n",
    "else:\n",
    "    largest=n2\n",
    "print(\"The largest number is\", largest)"
   ]
  },
  {
   "cell_type": "markdown",
   "id": "bca6627c",
   "metadata": {},
   "source": [
    "# Smallest of two number"
   ]
  },
  {
   "cell_type": "code",
   "execution_count": 12,
   "id": "8b67c8db",
   "metadata": {},
   "outputs": [
    {
     "name": "stdout",
     "output_type": "stream",
     "text": [
      "enter first number52\n",
      "enter second number40\n",
      "The smallest number is 40\n"
     ]
    }
   ],
   "source": [
    "n1=int(input(\"enter first number\"))\n",
    "n2=int(input(\"enter second number\"))\n",
    "if n1<n2:\n",
    "    smallest=n1\n",
    "else:\n",
    "    smallest=n2\n",
    "print(\"The smallest number is\", smallest)"
   ]
  },
  {
   "cell_type": "code",
   "execution_count": 14,
   "id": "41ea0808",
   "metadata": {},
   "outputs": [
    {
     "name": "stdout",
     "output_type": "stream",
     "text": [
      "enter first number40\n",
      "enter second number60\n",
      "The smallest number is 40\n"
     ]
    }
   ],
   "source": [
    "n1=int(input(\"enter first number\"))\n",
    "n2=int(input(\"enter second number\"))\n",
    "if n1<n2:\n",
    "    smallest=n1\n",
    "else:\n",
    "    smallest=n2\n",
    "print(\"The smallest number is\", smallest)"
   ]
  },
  {
   "cell_type": "markdown",
   "id": "c72bc253",
   "metadata": {},
   "source": [
    "# Largest of three numbers"
   ]
  },
  {
   "cell_type": "code",
   "execution_count": 4,
   "id": "51b87a8c",
   "metadata": {},
   "outputs": [
    {
     "name": "stdout",
     "output_type": "stream",
     "text": [
      "enter first number50\n",
      "enter second number20\n",
      "enter third number78\n",
      "The largest number is 78\n"
     ]
    }
   ],
   "source": [
    "#Find largest number from three numbers\n",
    "n1=int(input(\"enter first number\"))\n",
    "n2=int(input(\"enter second number\"))\n",
    "n3=int(input(\"enter third number\"))\n",
    "if (n1>n2) and (n1>n3):\n",
    "    largest=n1\n",
    "elif(n2>n1) and (n2>n3):\n",
    "    largest=n2\n",
    "else:\n",
    "    largest=n3\n",
    "print(\"The largest number is\", largest)"
   ]
  },
  {
   "cell_type": "code",
   "execution_count": 2,
   "id": "fcda0931",
   "metadata": {},
   "outputs": [
    {
     "name": "stdout",
     "output_type": "stream",
     "text": [
      "enter first number20\n",
      "enter second number78\n",
      "enter third number10\n",
      "The largest number is 78\n"
     ]
    }
   ],
   "source": [
    "n1=int(input(\"enter first number\"))\n",
    "n2=int(input(\"enter second number\"))\n",
    "n3=int(input(\"enter third number\"))\n",
    "if (n1>n2) and (n1>n3):\n",
    "    largest=n1\n",
    "elif(n2>n1) and (n2>n3):\n",
    "    largest=n2\n",
    "else:\n",
    "    largest=n3\n",
    "print(\"The largest number is\", largest)"
   ]
  },
  {
   "cell_type": "code",
   "execution_count": 3,
   "id": "4cfb292f",
   "metadata": {},
   "outputs": [
    {
     "name": "stdout",
     "output_type": "stream",
     "text": [
      "enter first number80\n",
      "enter second number10\n",
      "enter third number57\n",
      "The largest number is 80\n"
     ]
    }
   ],
   "source": [
    "n1=int(input(\"enter first number\"))\n",
    "n2=int(input(\"enter second number\"))\n",
    "n3=int(input(\"enter third number\"))\n",
    "if (n1>n2) and (n1>n3):\n",
    "    largest=n1\n",
    "elif(n2>n1) and (n2>n3):\n",
    "    largest=n2\n",
    "else:\n",
    "    largest=n3\n",
    "print(\"The largest number is\", largest)"
   ]
  },
  {
   "cell_type": "markdown",
   "id": "52ad5444",
   "metadata": {},
   "source": [
    "# Print days according to number 1....7"
   ]
  },
  {
   "cell_type": "code",
   "execution_count": 15,
   "id": "3950917b",
   "metadata": {},
   "outputs": [
    {
     "name": "stdout",
     "output_type": "stream",
     "text": [
      "Please enter the number between 1 to 7:4\n",
      "Thursday\n"
     ]
    }
   ],
   "source": [
    "n=int(input(\"Please enter the number between 1 to 7:\"))\n",
    "if n==1:\n",
    "    print(\"Monday\")\n",
    "elif n==2:\n",
    "    print(\"Tuesday\")\n",
    "elif n==3:\n",
    "    print(\"Wednesday\")\n",
    "elif n==4:\n",
    "    print(\"Thursday\")\n",
    "elif n==5:\n",
    "    print(\"Friday\")\n",
    "elif n==6:\n",
    "    print(\"Saturday\")\n",
    "elif n==7:\n",
    "    print(\"Sunday\")\n",
    "else:\n",
    "    print(\"NOt correct enter number\")"
   ]
  },
  {
   "cell_type": "code",
   "execution_count": 16,
   "id": "5bae5383",
   "metadata": {},
   "outputs": [
    {
     "name": "stdout",
     "output_type": "stream",
     "text": [
      "Please enter the number between 1 to 7:1\n",
      "Monday\n"
     ]
    }
   ],
   "source": [
    "n=int(input(\"Please enter the number between 1 to 7:\"))\n",
    "if n==1:\n",
    "    print(\"Monday\")\n",
    "elif n==2:\n",
    "    print(\"Tuesday\")\n",
    "elif n==3:\n",
    "    print(\"Wednesday\")\n",
    "elif n==4:\n",
    "    print(\"Thursday\")\n",
    "elif n==5:\n",
    "    print(\"Friday\")\n",
    "elif n==6:\n",
    "    print(\"Saturday\")\n",
    "elif n==7:\n",
    "    print(\"Sunday\")\n",
    "else:\n",
    "    print(\"NOt correct enter number\")"
   ]
  },
  {
   "cell_type": "code",
   "execution_count": 17,
   "id": "0c2ad798",
   "metadata": {},
   "outputs": [
    {
     "name": "stdout",
     "output_type": "stream",
     "text": [
      "Please enter the number between 1 to 7:85\n",
      "NOt correct enter number\n"
     ]
    }
   ],
   "source": [
    "n=int(input(\"Please enter the number between 1 to 7:\"))\n",
    "if n==1:\n",
    "    print(\"Monday\")\n",
    "elif n==2:\n",
    "    print(\"Tuesday\")\n",
    "elif n==3:\n",
    "    print(\"Wednesday\")\n",
    "elif n==4:\n",
    "    print(\"Thursday\")\n",
    "elif n==5:\n",
    "    print(\"Friday\")\n",
    "elif n==6:\n",
    "    print(\"Saturday\")\n",
    "elif n==7:\n",
    "    print(\"Sunday\")\n",
    "else:\n",
    "    print(\"NOt correct enter number\")"
   ]
  },
  {
   "cell_type": "markdown",
   "id": "b2c76e6a",
   "metadata": {},
   "source": [
    "# 10% bonus if salary is greater than 10000"
   ]
  },
  {
   "cell_type": "code",
   "execution_count": 18,
   "id": "a12aeb46",
   "metadata": {},
   "outputs": [
    {
     "name": "stdout",
     "output_type": "stream",
     "text": [
      "Enter salary: 5000\n",
      "Total salary is  5000.0\n"
     ]
    }
   ],
   "source": [
    "salary=float(input(\"Enter salary: \"))\n",
    "if salary>10000:\n",
    "    bonus=salary*.1\n",
    "    print(\"Salary with bonus: \",salary+bonus)\n",
    "else:\n",
    "    print(\"Total salary is \",salary)"
   ]
  },
  {
   "cell_type": "code",
   "execution_count": 19,
   "id": "bda58a0d",
   "metadata": {},
   "outputs": [
    {
     "name": "stdout",
     "output_type": "stream",
     "text": [
      "Enter salary: 15000\n",
      "Salary with bonus:  16500.0\n"
     ]
    }
   ],
   "source": [
    "salary=float(input(\"Enter salary: \"))\n",
    "if salary>10000:\n",
    "    bonus=salary*.1\n",
    "    print(\"Salary with bonus: \",salary+bonus)\n",
    "else:\n",
    "    print(\"Total salary is \",salary)"
   ]
  },
  {
   "cell_type": "markdown",
   "id": "195fd34d",
   "metadata": {},
   "source": [
    "# Eligible for vote"
   ]
  },
  {
   "cell_type": "code",
   "execution_count": 20,
   "id": "74ed4f05",
   "metadata": {},
   "outputs": [
    {
     "name": "stdout",
     "output_type": "stream",
     "text": [
      "Print age of person: 25\n",
      "Eligible for vote\n"
     ]
    }
   ],
   "source": [
    "a=int(input(\"Print age of person: \"))\n",
    "if a>=18:\n",
    "    print(\"Eligible for vote\")\n",
    "else:\n",
    "    print(\"Minor\")"
   ]
  },
  {
   "cell_type": "code",
   "execution_count": 21,
   "id": "abe15b83",
   "metadata": {},
   "outputs": [
    {
     "name": "stdout",
     "output_type": "stream",
     "text": [
      "Print age of person: 7\n",
      "Minor\n"
     ]
    }
   ],
   "source": [
    "a=int(input(\"Print age of person: \"))\n",
    "if a>=18:\n",
    "    print(\"Eligible for vote\")\n",
    "else:\n",
    "    print(\"Minor\")"
   ]
  },
  {
   "cell_type": "code",
   "execution_count": 22,
   "id": "5aa45ac5",
   "metadata": {},
   "outputs": [
    {
     "name": "stdout",
     "output_type": "stream",
     "text": [
      "Print age of person: 18\n",
      "Eligible for vote\n"
     ]
    }
   ],
   "source": [
    "a=int(input(\"Print age of person: \"))\n",
    "if a>=18:\n",
    "    print(\"Eligible for vote\")\n",
    "else:\n",
    "    print(\"Minor\")"
   ]
  },
  {
   "cell_type": "markdown",
   "id": "ccf8a4c9",
   "metadata": {},
   "source": [
    "# Calculator"
   ]
  },
  {
   "cell_type": "code",
   "execution_count": 24,
   "id": "0bd46c39",
   "metadata": {},
   "outputs": [
    {
     "name": "stdout",
     "output_type": "stream",
     "text": [
      "Enter first number: 52\n",
      "enter operator of + - * / % :  +\n",
      "Enter second number: 2\n",
      "Sum of number is 54.0\n"
     ]
    }
   ],
   "source": [
    "a=float(input(\"Enter first number: \"))\n",
    "n=input(\"enter operator of + - * / % :  \")\n",
    "b=float(input(\"Enter second number: \"))\n",
    "if n=='+':\n",
    "    print(\"Sum of number is\",a+b)\n",
    "elif n=='-':\n",
    "    print(\"Substract of number is\",a-b)\n",
    "elif n=='*':\n",
    "    print(\"Multiplication of number is\",a*b)\n",
    "elif n=='/':\n",
    "    print(\"Division of number is\",a/b)\n",
    "elif n=='%':\n",
    "    print(\"Modulodivision of number is\",a%b)\n",
    "else:\n",
    "    print(\"correct operator\")"
   ]
  },
  {
   "cell_type": "code",
   "execution_count": 1,
   "id": "430a30e9",
   "metadata": {},
   "outputs": [
    {
     "name": "stdout",
     "output_type": "stream",
     "text": [
      "Enter first number: 25\n",
      "enter operator of + - * / % :  %\n",
      "Enter second number: 5\n",
      "Modulodivision of number is 0.0\n"
     ]
    }
   ],
   "source": [
    "a=float(input(\"Enter first number: \"))\n",
    "n=input(\"enter operator of + - * / % :  \")\n",
    "b=float(input(\"Enter second number: \"))\n",
    "if n=='+':\n",
    "    print(\"Sum of number is\",a+b)\n",
    "elif n=='-':\n",
    "    print(\"Substract of number is\",a-b)\n",
    "elif n=='*':\n",
    "    print(\"Multiplication of number is\",a*b)\n",
    "elif n=='/':\n",
    "    print(\"Division of number is\",a/b)\n",
    "elif n=='%':\n",
    "    print(\"Modulodivision of number is\",a%b)\n",
    "else:\n",
    "    print(\"correct operator\")"
   ]
  },
  {
   "cell_type": "markdown",
   "id": "e5c24e89",
   "metadata": {},
   "source": [
    "# Grade of students"
   ]
  },
  {
   "cell_type": "code",
   "execution_count": 2,
   "id": "7b0f7a13",
   "metadata": {},
   "outputs": [
    {
     "name": "stdout",
     "output_type": "stream",
     "text": [
      "Enter 5 subject marks of student in 100 :\n",
      "85\n",
      "75\n",
      "65\n",
      "95\n",
      "77\n",
      "Grade is B\n"
     ]
    }
   ],
   "source": [
    "print(\"Enter 5 subject marks of student in 100 :\")\n",
    "m1=int(input())\n",
    "m2=int(input())\n",
    "m3=int(input())\n",
    "m4=int(input())\n",
    "m5=int(input())\n",
    "totalmarks=m1+m2+m3+m4+m5\n",
    "average=(totalmarks/500)*100\n",
    "if average>90:\n",
    "    print(\"Grade is A\")\n",
    "elif average>75:\n",
    "    print(\"Grade is B\")\n",
    "elif  average>65:\n",
    "    print(\"Grade is C\")\n",
    "elif  average>50:\n",
    "    print(\"Grade is D\")\n",
    "else:\n",
    "    print(\"Fail\")\n",
    "    "
   ]
  },
  {
   "cell_type": "code",
   "execution_count": 1,
   "id": "99013f26",
   "metadata": {},
   "outputs": [
    {
     "name": "stdout",
     "output_type": "stream",
     "text": [
      "Enter 5 subject marks of student in 100 :\n",
      "55\n",
      "45\n",
      "22\n",
      "55\n",
      "25\n",
      "Fail\n"
     ]
    }
   ],
   "source": [
    "print(\"Enter 5 subject marks of student in 100 :\")\n",
    "m1=int(input())\n",
    "m2=int(input())\n",
    "m3=int(input())\n",
    "m4=int(input())\n",
    "m5=int(input())\n",
    "totalmarks=m1+m2+m3+m4+m5\n",
    "average=(totalmarks/500)*100\n",
    "if average>90:\n",
    "    print(\"Grade is A\")\n",
    "elif average>75:\n",
    "    print(\"Grade is B\")\n",
    "elif  average>65:\n",
    "    print(\"Grade is C\")\n",
    "elif  average>50:\n",
    "    print(\"Grade is D\")\n",
    "else:\n",
    "    print(\"Fail\")\n",
    "    "
   ]
  },
  {
   "cell_type": "markdown",
   "id": "3ce347c7",
   "metadata": {},
   "source": [
    "# Acending order of 3 no."
   ]
  },
  {
   "cell_type": "code",
   "execution_count": 2,
   "id": "33437187",
   "metadata": {},
   "outputs": [
    {
     "name": "stdout",
     "output_type": "stream",
     "text": [
      "enter first number: 25\n",
      "enter second number: 88\n",
      "enter third number:14\n",
      "14 25 88\n"
     ]
    }
   ],
   "source": [
    "a=int(input(\"enter first number: \"))\n",
    "b=int(input(\"enter second number: \"))\n",
    "c=int(input(\"enter third number:\"))\n",
    "if a>b:\n",
    "    a,b=b,a\n",
    "if a>c:\n",
    "    a,c=c,a\n",
    "if b>c:\n",
    "    b,c=c,b\n",
    "print(a,b,c)\n"
   ]
  },
  {
   "cell_type": "code",
   "execution_count": 3,
   "id": "391e70d7",
   "metadata": {},
   "outputs": [
    {
     "name": "stdout",
     "output_type": "stream",
     "text": [
      "enter first number: 88\n",
      "enter second number: 25\n",
      "enter third number:14\n",
      "14 25 88\n"
     ]
    }
   ],
   "source": [
    "a=int(input(\"enter first number: \"))\n",
    "b=int(input(\"enter second number: \"))\n",
    "c=int(input(\"enter third number:\"))\n",
    "if a>b:\n",
    "    a,b=b,a\n",
    "if a>c:\n",
    "    a,c=c,a\n",
    "if b>c:\n",
    "    b,c=c,b\n",
    "print(a,b,c)"
   ]
  },
  {
   "cell_type": "markdown",
   "id": "be1cc3bf",
   "metadata": {},
   "source": [
    "# Print months according to 1...12"
   ]
  },
  {
   "cell_type": "code",
   "execution_count": 4,
   "id": "808f92ae",
   "metadata": {},
   "outputs": [
    {
     "name": "stdout",
     "output_type": "stream",
     "text": [
      "Enter the number from 1 to 12 for identifying a month: 5\n",
      "May\n"
     ]
    }
   ],
   "source": [
    "n=int(input(\"Enter the number from 1 to 12 for identifying a month: \"))\n",
    "if n==1:\n",
    "    print(\"Januvary\")\n",
    "elif n==2:\n",
    "        print(\"Februvary\")\n",
    "elif n==3:\n",
    "    print(\"March\")\n",
    "elif n==4:\n",
    "    print(\"April\")\n",
    "elif n==5:\n",
    "    print(\"May\")\n",
    "elif n==6:\n",
    "    print(\"June\")\n",
    "elif n==7:\n",
    "    print(\"July\")\n",
    "elif n==8:\n",
    "    print(\"August\")\n",
    "elif n==9:\n",
    "    print(\"September\")\n",
    "elif n==10:\n",
    "    print(\"October\")\n",
    "elif n==11:\n",
    "    print(\"November\")\n",
    "elif n==12:\n",
    "    print(\"December\")\n",
    "else:\n",
    "    print(\"Wrong number is select\")\n"
   ]
  },
  {
   "cell_type": "code",
   "execution_count": 5,
   "id": "50b9e51e",
   "metadata": {},
   "outputs": [
    {
     "name": "stdout",
     "output_type": "stream",
     "text": [
      "Enter the number from 1 to 12 for identifying a month: 10\n",
      "October\n"
     ]
    }
   ],
   "source": [
    "n=int(input(\"Enter the number from 1 to 12 for identifying a month: \"))\n",
    "if n==1:\n",
    "    print(\"Januvary\")\n",
    "elif n==2:\n",
    "        print(\"Februvary\")\n",
    "elif n==3:\n",
    "    print(\"March\")\n",
    "elif n==4:\n",
    "    print(\"April\")\n",
    "elif n==5:\n",
    "    print(\"May\")\n",
    "elif n==6:\n",
    "    print(\"June\")\n",
    "elif n==7:\n",
    "    print(\"July\")\n",
    "elif n==8:\n",
    "    print(\"August\")\n",
    "elif n==9:\n",
    "    print(\"September\")\n",
    "elif n==10:\n",
    "    print(\"October\")\n",
    "elif n==11:\n",
    "    print(\"November\")\n",
    "elif n==12:\n",
    "    print(\"December\")\n",
    "else:\n",
    "    print(\"Wrong number is select\")"
   ]
  },
  {
   "cell_type": "code",
   "execution_count": 6,
   "id": "ba31bd3e",
   "metadata": {},
   "outputs": [
    {
     "name": "stdout",
     "output_type": "stream",
     "text": [
      "Enter the number from 1 to 12 for identifying a month: 22\n",
      "Wrong number is select\n"
     ]
    }
   ],
   "source": [
    "n=int(input(\"Enter the number from 1 to 12 for identifying a month: \"))\n",
    "if n==1:\n",
    "    print(\"Januvary\")\n",
    "elif n==2:\n",
    "        print(\"Februvary\")\n",
    "elif n==3:\n",
    "    print(\"March\")\n",
    "elif n==4:\n",
    "    print(\"April\")\n",
    "elif n==5:\n",
    "    print(\"May\")\n",
    "elif n==6:\n",
    "    print(\"June\")\n",
    "elif n==7:\n",
    "    print(\"July\")\n",
    "elif n==8:\n",
    "    print(\"August\")\n",
    "elif n==9:\n",
    "    print(\"September\")\n",
    "elif n==10:\n",
    "    print(\"October\")\n",
    "elif n==11:\n",
    "    print(\"November\")\n",
    "elif n==12:\n",
    "    print(\"December\")\n",
    "else:\n",
    "    print(\"Wrong number is select\")"
   ]
  },
  {
   "cell_type": "markdown",
   "id": "5bb1e4c3",
   "metadata": {},
   "source": [
    "# Leap year program"
   ]
  },
  {
   "cell_type": "code",
   "execution_count": 7,
   "id": "8f62b785",
   "metadata": {},
   "outputs": [
    {
     "name": "stdout",
     "output_type": "stream",
     "text": [
      "Enter an year:2004\n",
      "leap year\n"
     ]
    }
   ],
   "source": [
    "n=int(input(\"Enter an year:\"))\n",
    "if n%4==0:\n",
    "    print(\"leap year\")\n",
    "else:\n",
    "    print(\"not leap year\")"
   ]
  },
  {
   "cell_type": "code",
   "execution_count": 8,
   "id": "6e289aad",
   "metadata": {},
   "outputs": [
    {
     "name": "stdout",
     "output_type": "stream",
     "text": [
      "Enter an year:2005\n",
      "not leap year\n"
     ]
    }
   ],
   "source": [
    "n=int(input(\"Enter an year:\"))\n",
    "if n%4==0:\n",
    "    print(\"leap year\")\n",
    "else:\n",
    "    print(\"not leap year\")"
   ]
  },
  {
   "cell_type": "markdown",
   "id": "982a8c02",
   "metadata": {},
   "source": [
    "# Two numbers are equal"
   ]
  },
  {
   "cell_type": "code",
   "execution_count": 9,
   "id": "126ecd31",
   "metadata": {},
   "outputs": [
    {
     "name": "stdout",
     "output_type": "stream",
     "text": [
      "enter the first number22\n",
      "enter the second number22\n",
      "numbers are equal\n"
     ]
    }
   ],
   "source": [
    "a=input(\"enter the first number\")\n",
    "b=input(\"enter the second number\")\n",
    "if a==b:\n",
    "    print(\"numbers are equal\")\n",
    "else:\n",
    "    print(\"numbers are not equal\")"
   ]
  },
  {
   "cell_type": "code",
   "execution_count": 10,
   "id": "baf0c056",
   "metadata": {},
   "outputs": [
    {
     "name": "stdout",
     "output_type": "stream",
     "text": [
      "enter the first number22\n",
      "enter the second number45\n",
      "numbers are not equal\n"
     ]
    }
   ],
   "source": [
    "a=input(\"enter the first number\")\n",
    "b=input(\"enter the second number\")\n",
    "if a==b:\n",
    "    print(\"numbers are equal\")\n",
    "else:\n",
    "    print(\"numbers are not equal\")"
   ]
  }
 ],
 "metadata": {
  "kernelspec": {
   "display_name": "Python 3",
   "language": "python",
   "name": "python3"
  },
  "language_info": {
   "codemirror_mode": {
    "name": "ipython",
    "version": 3
   },
   "file_extension": ".py",
   "mimetype": "text/x-python",
   "name": "python",
   "nbconvert_exporter": "python",
   "pygments_lexer": "ipython3",
   "version": "3.8.8"
  }
 },
 "nbformat": 4,
 "nbformat_minor": 5
}
