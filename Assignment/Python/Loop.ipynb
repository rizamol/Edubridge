{
 "cells": [
  {
   "cell_type": "markdown",
   "id": "b0cd861e",
   "metadata": {},
   "source": [
    "# Loop"
   ]
  },
  {
   "cell_type": "markdown",
   "id": "4a326c79",
   "metadata": {},
   "source": [
    "# Print n number"
   ]
  },
  {
   "cell_type": "code",
   "execution_count": 1,
   "id": "54530285",
   "metadata": {},
   "outputs": [
    {
     "name": "stdout",
     "output_type": "stream",
     "text": [
      "enter a limit: 4\n",
      "1\n",
      "2\n",
      "3\n",
      "4\n"
     ]
    }
   ],
   "source": [
    "n=int(input(\"enter a limit: \"))\n",
    "i=1\n",
    "while i<=n:\n",
    "    print(i)\n",
    "    i=i+1"
   ]
  },
  {
   "cell_type": "code",
   "execution_count": 2,
   "id": "db54db49",
   "metadata": {},
   "outputs": [
    {
     "name": "stdout",
     "output_type": "stream",
     "text": [
      "enter a limit: 11\n",
      "1\n",
      "2\n",
      "3\n",
      "4\n",
      "5\n",
      "6\n",
      "7\n",
      "8\n",
      "9\n",
      "10\n",
      "11\n"
     ]
    }
   ],
   "source": [
    "n=int(input(\"enter a limit: \"))\n",
    "i=1\n",
    "while i<=n:\n",
    "    print(i)\n",
    "    i=i+1"
   ]
  },
  {
   "cell_type": "markdown",
   "id": "1204bb9b",
   "metadata": {},
   "source": [
    "# Sum of n number"
   ]
  },
  {
   "cell_type": "code",
   "execution_count": 3,
   "id": "c9b69edd",
   "metadata": {},
   "outputs": [
    {
     "name": "stdout",
     "output_type": "stream",
     "text": [
      "enter a limit: 5\n",
      "15\n"
     ]
    }
   ],
   "source": [
    "n=int(input(\"enter a limit: \"))\n",
    "i=1\n",
    "sum=0\n",
    "while i<=n:\n",
    "    sum=sum+i\n",
    "    i=i+1\n",
    "print(sum)"
   ]
  },
  {
   "cell_type": "code",
   "execution_count": 4,
   "id": "fb1b5f6f",
   "metadata": {},
   "outputs": [
    {
     "name": "stdout",
     "output_type": "stream",
     "text": [
      "enter a limit: 10\n",
      "55\n"
     ]
    }
   ],
   "source": [
    "n=int(input(\"enter a limit: \"))\n",
    "i=1\n",
    "sum=0\n",
    "while i<=n:\n",
    "    sum=sum+i\n",
    "    i=i+1\n",
    "print(sum)"
   ]
  },
  {
   "cell_type": "markdown",
   "id": "a82475f0",
   "metadata": {},
   "source": [
    "# Table of a number (Multipilcation table)"
   ]
  },
  {
   "cell_type": "code",
   "execution_count": 5,
   "id": "e025cdf2",
   "metadata": {},
   "outputs": [
    {
     "name": "stdout",
     "output_type": "stream",
     "text": [
      "enter a number: 5\n",
      "1 * 5 = 5\n",
      "2 * 5 = 10\n",
      "3 * 5 = 15\n",
      "4 * 5 = 20\n",
      "5 * 5 = 25\n",
      "6 * 5 = 30\n",
      "7 * 5 = 35\n",
      "8 * 5 = 40\n",
      "9 * 5 = 45\n",
      "10 * 5 = 50\n"
     ]
    }
   ],
   "source": [
    "n=int(input(\"enter a number: \"))\n",
    "i=1\n",
    "while i<=10:\n",
    "    print(i,\"*\",n,\"=\",n*i)\n",
    "    i=i+1"
   ]
  },
  {
   "cell_type": "code",
   "execution_count": 6,
   "id": "ee3abc72",
   "metadata": {},
   "outputs": [
    {
     "name": "stdout",
     "output_type": "stream",
     "text": [
      "enter a number: 22\n",
      "1 * 22 = 22\n",
      "2 * 22 = 44\n",
      "3 * 22 = 66\n",
      "4 * 22 = 88\n",
      "5 * 22 = 110\n",
      "6 * 22 = 132\n",
      "7 * 22 = 154\n",
      "8 * 22 = 176\n",
      "9 * 22 = 198\n",
      "10 * 22 = 220\n"
     ]
    }
   ],
   "source": [
    "n=int(input(\"enter a number: \"))\n",
    "i=1\n",
    "while i<=10:\n",
    "    print(i,\"*\",n,\"=\",n*i)\n",
    "    i=i+1"
   ]
  },
  {
   "cell_type": "markdown",
   "id": "0c0e8dfb",
   "metadata": {},
   "source": [
    "# Factorial of number"
   ]
  },
  {
   "cell_type": "code",
   "execution_count": 9,
   "id": "a345ff9c",
   "metadata": {},
   "outputs": [
    {
     "name": "stdout",
     "output_type": "stream",
     "text": [
      "enter a number: 5\n",
      "Factorial of number is:  120\n"
     ]
    }
   ],
   "source": [
    "n=int(input(\"enter a number: \"))\n",
    "i=1\n",
    "f=1\n",
    "while i<=n:\n",
    "    f=f*i\n",
    "    i=i+1\n",
    "print(\"Factorial of number is: \",f)"
   ]
  },
  {
   "cell_type": "code",
   "execution_count": 10,
   "id": "9fe93c1a",
   "metadata": {},
   "outputs": [
    {
     "name": "stdout",
     "output_type": "stream",
     "text": [
      "enter a number: 7\n",
      "Factorial of number is:  5040\n"
     ]
    }
   ],
   "source": [
    "n=int(input(\"enter a number: \"))\n",
    "i=1\n",
    "f=1\n",
    "while i<=n:\n",
    "    f=f*i\n",
    "    i=i+1\n",
    "print(\"Factorial of number is: \",f)"
   ]
  },
  {
   "cell_type": "markdown",
   "id": "39c18f89",
   "metadata": {},
   "source": [
    "# Print even number from 1 to 100"
   ]
  },
  {
   "cell_type": "code",
   "execution_count": 11,
   "id": "3c2bd092",
   "metadata": {},
   "outputs": [
    {
     "name": "stdout",
     "output_type": "stream",
     "text": [
      "2\n",
      "4\n",
      "6\n",
      "8\n",
      "10\n",
      "12\n",
      "14\n",
      "16\n",
      "18\n",
      "20\n",
      "22\n",
      "24\n",
      "26\n",
      "28\n",
      "30\n",
      "32\n",
      "34\n",
      "36\n",
      "38\n",
      "40\n",
      "42\n",
      "44\n",
      "46\n",
      "48\n",
      "50\n",
      "52\n",
      "54\n",
      "56\n",
      "58\n",
      "60\n",
      "62\n",
      "64\n",
      "66\n",
      "68\n",
      "70\n",
      "72\n",
      "74\n",
      "76\n",
      "78\n",
      "80\n",
      "82\n",
      "84\n",
      "86\n",
      "88\n",
      "90\n",
      "92\n",
      "94\n",
      "96\n",
      "98\n",
      "100\n"
     ]
    }
   ],
   "source": [
    "i=2\n",
    "while i<=100:\n",
    "    print(i)\n",
    "    i=i+2"
   ]
  },
  {
   "cell_type": "code",
   "execution_count": 2,
   "id": "048ebda7",
   "metadata": {},
   "outputs": [
    {
     "name": "stdout",
     "output_type": "stream",
     "text": [
      "0\n",
      "1\n",
      "2\n",
      "3\n",
      "4\n",
      "5\n",
      "6\n",
      "7\n",
      "8\n",
      "9\n"
     ]
    }
   ],
   "source": [
    "for i in range(10):\n",
    "    print(i)"
   ]
  },
  {
   "cell_type": "code",
   "execution_count": 3,
   "id": "51b6f10e",
   "metadata": {},
   "outputs": [
    {
     "name": "stdout",
     "output_type": "stream",
     "text": [
      "hello\n",
      "hello\n",
      "hello\n",
      "hello\n",
      "hello\n",
      "hello\n",
      "hello\n",
      "hello\n",
      "hello\n",
      "hello\n"
     ]
    }
   ],
   "source": [
    "for j in range(10):\n",
    "    print(\"hello\")"
   ]
  },
  {
   "cell_type": "code",
   "execution_count": 4,
   "id": "9a9ed608",
   "metadata": {},
   "outputs": [
    {
     "name": "stdout",
     "output_type": "stream",
     "text": [
      "55\n"
     ]
    }
   ],
   "source": [
    "sum=0\n",
    "for i in range(11):\n",
    "    sum=sum+i\n",
    "print(sum)"
   ]
  },
  {
   "cell_type": "markdown",
   "id": "cc0ab556",
   "metadata": {},
   "source": [
    "# Reverse of a number"
   ]
  },
  {
   "cell_type": "code",
   "execution_count": 23,
   "id": "c58f1e98",
   "metadata": {},
   "outputs": [
    {
     "name": "stdout",
     "output_type": "stream",
     "text": [
      "enter the number: 256\n",
      "reverse of number is:  652\n"
     ]
    }
   ],
   "source": [
    "number=int(input(\"enter the number: \"))\n",
    "reverse_number=0\n",
    "while number>0:\n",
    "    reminder=number%10\n",
    "    reverse_number=(reverse_number*10)+reminder\n",
    "    number=number//10\n",
    "print(\"reverse of number is: \",reverse_number)\n",
    "\n"
   ]
  },
  {
   "cell_type": "code",
   "execution_count": 24,
   "id": "a3048c93",
   "metadata": {},
   "outputs": [
    {
     "name": "stdout",
     "output_type": "stream",
     "text": [
      "enter the number: 5868769\n",
      "reverse of number is:  9678685\n"
     ]
    }
   ],
   "source": [
    "number=int(input(\"enter the number: \"))\n",
    "reverse_number=0\n",
    "while number>0:\n",
    "    reminder=number%10\n",
    "    reverse_number=(reverse_number*10)+reminder\n",
    "    number=number//10\n",
    "print(\"reverse of number is: \",reverse_number)"
   ]
  },
  {
   "cell_type": "markdown",
   "id": "fa324f30",
   "metadata": {},
   "source": [
    "# check armstrong number or not"
   ]
  },
  {
   "cell_type": "code",
   "execution_count": 25,
   "id": "a269902c",
   "metadata": {},
   "outputs": [
    {
     "name": "stdout",
     "output_type": "stream",
     "text": [
      "Enter a three digit number: 153\n",
      "Amstrong number\n"
     ]
    }
   ],
   "source": [
    "number=int(input(\"Enter a three digit number: \"))\n",
    "sum=0\n",
    "temp=number\n",
    "while temp>0:\n",
    "    digit=temp%10\n",
    "    sum=digit**3+sum\n",
    "    temp=temp//10\n",
    "if number==sum:\n",
    "    print(\"Amstrong number\")\n",
    "else:\n",
    "    print(\"Not amstrong\")"
   ]
  },
  {
   "cell_type": "code",
   "execution_count": 26,
   "id": "8b27baac",
   "metadata": {},
   "outputs": [
    {
     "name": "stdout",
     "output_type": "stream",
     "text": [
      "Enter a three digit number: 686\n",
      "Not amstrong\n"
     ]
    }
   ],
   "source": [
    "number=int(input(\"Enter a three digit number: \"))\n",
    "sum=0\n",
    "temp=number\n",
    "while temp>0:\n",
    "    digit=temp%10\n",
    "    sum=digit**3+sum\n",
    "    temp=temp//10\n",
    "if number==sum:\n",
    "    print(\"Amstrong number\")\n",
    "else:\n",
    "    print(\"Not amstrong\")"
   ]
  },
  {
   "cell_type": "markdown",
   "id": "e9204706",
   "metadata": {},
   "source": [
    "# Prime number or not"
   ]
  },
  {
   "cell_type": "code",
   "execution_count": 19,
   "id": "5b76e440",
   "metadata": {},
   "outputs": [
    {
     "name": "stdout",
     "output_type": "stream",
     "text": [
      "Enter a number: 7\n",
      "It is a prime number\n"
     ]
    }
   ],
   "source": [
    "number=int(input(\"Enter a number: \"))\n",
    "if number>1:\n",
    "    for i in range(2,number):\n",
    "        if(number%i)==0:\n",
    "            print(\"It is not a prime number\")\n",
    "            break\n",
    "        else:\n",
    "            print(\"It is a prime number\")\n",
    "            break"
   ]
  },
  {
   "cell_type": "code",
   "execution_count": 20,
   "id": "1ddf8fce",
   "metadata": {},
   "outputs": [
    {
     "name": "stdout",
     "output_type": "stream",
     "text": [
      "Enter a number: 4\n",
      "It is not a prime number\n"
     ]
    }
   ],
   "source": [
    "number=int(input(\"Enter a number: \"))\n",
    "if number>1:\n",
    "    for i in range(2,number):\n",
    "        if(number%i)==0:\n",
    "            print(\"It is not a prime number\")\n",
    "            break\n",
    "        else:\n",
    "            print(\"It is a prime number\")\n",
    "            break"
   ]
  },
  {
   "cell_type": "code",
   "execution_count": 21,
   "id": "e2f35826",
   "metadata": {},
   "outputs": [
    {
     "name": "stdout",
     "output_type": "stream",
     "text": [
      "Enter a number: 11\n",
      "It is a prime number\n"
     ]
    }
   ],
   "source": [
    "number=int(input(\"Enter a number: \"))\n",
    "if number>1:\n",
    "    for i in range(2,number):\n",
    "        if(number%i)==0:\n",
    "            print(\"It is not a prime number\")\n",
    "            break\n",
    "        else:\n",
    "            print(\"It is a prime number\")\n",
    "            break"
   ]
  },
  {
   "cell_type": "code",
   "execution_count": 29,
   "id": "68e6dca1",
   "metadata": {},
   "outputs": [
    {
     "name": "stdout",
     "output_type": "stream",
     "text": [
      "Enter a number: 7\n",
      "It is a prime number\n"
     ]
    }
   ],
   "source": [
    "number=int(input(\"Enter a number: \"))\n",
    "if number==0:\n",
    "    print(\"It is not a prime number\")\n",
    "elif number==1:\n",
    "    print(\"It is not a prime number\")\n",
    "elif number>1:\n",
    "    for i in range(2,number):\n",
    "        if(number%i)==0:\n",
    "            print(\"It is not a prime number\")\n",
    "            break\n",
    "        else:\n",
    "            print(\"It is a prime number\")\n",
    "            break"
   ]
  },
  {
   "cell_type": "markdown",
   "id": "3e90b65b",
   "metadata": {},
   "source": [
    "# Type a format 55555, 4444, 333, 22, 1"
   ]
  },
  {
   "cell_type": "code",
   "execution_count": 45,
   "id": "1b998d7e",
   "metadata": {},
   "outputs": [
    {
     "name": "stdout",
     "output_type": "stream",
     "text": [
      "00000\n",
      "1111\n",
      "222\n",
      "33\n",
      "4\n"
     ]
    }
   ],
   "source": [
    "for i in range(5):\n",
    "    for j in range(5-i):\n",
    "        print(i,end=\"\")\n",
    "    print()"
   ]
  },
  {
   "cell_type": "code",
   "execution_count": 48,
   "id": "9ef92795",
   "metadata": {},
   "outputs": [
    {
     "name": "stdout",
     "output_type": "stream",
     "text": [
      "55555\n",
      "4444\n",
      "333\n",
      "22\n",
      "1\n"
     ]
    }
   ],
   "source": [
    "for i in range(5,0,-1):\n",
    "    for j in range(i):\n",
    "        print(i,end=\"\")\n",
    "    print()"
   ]
  },
  {
   "cell_type": "code",
   "execution_count": 49,
   "id": "e05090eb",
   "metadata": {},
   "outputs": [
    {
     "name": "stdout",
     "output_type": "stream",
     "text": [
      "01234\n",
      "0123\n",
      "012\n",
      "01\n",
      "0\n"
     ]
    }
   ],
   "source": [
    "for i in range(5):\n",
    "    for j in range(5-i):\n",
    "        print(j,end=\"\")\n",
    "    print()"
   ]
  },
  {
   "cell_type": "code",
   "execution_count": null,
   "id": "c8e53d8c",
   "metadata": {},
   "outputs": [],
   "source": []
  }
 ],
 "metadata": {
  "kernelspec": {
   "display_name": "Python 3",
   "language": "python",
   "name": "python3"
  },
  "language_info": {
   "codemirror_mode": {
    "name": "ipython",
    "version": 3
   },
   "file_extension": ".py",
   "mimetype": "text/x-python",
   "name": "python",
   "nbconvert_exporter": "python",
   "pygments_lexer": "ipython3",
   "version": "3.8.8"
  }
 },
 "nbformat": 4,
 "nbformat_minor": 5
}
