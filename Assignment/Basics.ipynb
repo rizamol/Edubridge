{
 "cells": [
  {
   "cell_type": "markdown",
   "id": "eba04c9e",
   "metadata": {},
   "source": [
    "# BASIC PROGRAMS IN PYTHON"
   ]
  },
  {
   "cell_type": "code",
   "execution_count": 5,
   "id": "9dc31e50",
   "metadata": {},
   "outputs": [
    {
     "data": {
      "text/plain": [
       "30"
      ]
     },
     "execution_count": 5,
     "metadata": {},
     "output_type": "execute_result"
    }
   ],
   "source": [
    "#Addition of two numbers\n",
    "a=20\n",
    "b=10\n",
    "c=a+b\n",
    "c"
   ]
  },
  {
   "cell_type": "code",
   "execution_count": 4,
   "id": "50876021",
   "metadata": {},
   "outputs": [
    {
     "data": {
      "text/plain": [
       "10"
      ]
     },
     "execution_count": 4,
     "metadata": {},
     "output_type": "execute_result"
    }
   ],
   "source": [
    "#Substraction of two numbers\n",
    "a=20\n",
    "b=10\n",
    "c=a-b\n",
    "c"
   ]
  },
  {
   "cell_type": "code",
   "execution_count": 3,
   "id": "3ac68d8f",
   "metadata": {},
   "outputs": [
    {
     "data": {
      "text/plain": [
       "200"
      ]
     },
     "execution_count": 3,
     "metadata": {},
     "output_type": "execute_result"
    }
   ],
   "source": [
    "#Multiplication Of two numbers\n",
    "a=10\n",
    "b=20\n",
    "c=a*b\n",
    "c"
   ]
  },
  {
   "cell_type": "code",
   "execution_count": 4,
   "id": "9a11699b",
   "metadata": {},
   "outputs": [
    {
     "data": {
      "text/plain": [
       "0.5"
      ]
     },
     "execution_count": 4,
     "metadata": {},
     "output_type": "execute_result"
    }
   ],
   "source": [
    "#Division of two numbers\n",
    "a=10\n",
    "b=20\n",
    "c=a/b\n",
    "c"
   ]
  },
  {
   "cell_type": "code",
   "execution_count": 5,
   "id": "11b21fbc",
   "metadata": {},
   "outputs": [
    {
     "data": {
      "text/plain": [
       "10"
      ]
     },
     "execution_count": 5,
     "metadata": {},
     "output_type": "execute_result"
    }
   ],
   "source": [
    "#Modulo divsion of two numbers\n",
    "a=10\n",
    "b=20\n",
    "c=a%b\n",
    "c"
   ]
  },
  {
   "cell_type": "code",
   "execution_count": 6,
   "id": "d9c5800b",
   "metadata": {},
   "outputs": [
    {
     "data": {
      "text/plain": [
       "0"
      ]
     },
     "execution_count": 6,
     "metadata": {},
     "output_type": "execute_result"
    }
   ],
   "source": [
    "#Floor division of two numbers\n",
    "a=10\n",
    "b=20\n",
    "c=a//b\n",
    "c"
   ]
  },
  {
   "cell_type": "code",
   "execution_count": 6,
   "id": "85e6bef6",
   "metadata": {},
   "outputs": [
    {
     "data": {
      "text/plain": [
       "20.0"
      ]
     },
     "execution_count": 6,
     "metadata": {},
     "output_type": "execute_result"
    }
   ],
   "source": [
    "#Average of some numbers\n",
    "a=10\n",
    "b=10\n",
    "c=30\n",
    "d=40\n",
    "e=10\n",
    "c=(a+b+c+d+e)/5\n",
    "c"
   ]
  },
  {
   "cell_type": "code",
   "execution_count": 4,
   "id": "00d67f52",
   "metadata": {},
   "outputs": [
    {
     "name": "stdout",
     "output_type": "stream",
     "text": [
      "enter first number10\n",
      "enter second number20\n",
      "sum of values 30\n"
     ]
    }
   ],
   "source": [
    "#Sum of two numbers\n",
    "a=int(input(\"enter first number\"))\n",
    "b=int(input(\"enter second number\"))\n",
    "c=a+b\n",
    "print(\"sum of values\",c)"
   ]
  },
  {
   "cell_type": "code",
   "execution_count": 5,
   "id": "fe491701",
   "metadata": {},
   "outputs": [
    {
     "name": "stdout",
     "output_type": "stream",
     "text": [
      "enter first number10\n",
      "enter second number20\n",
      "swap 20 10\n"
     ]
    }
   ],
   "source": [
    "#Swap of two numbers\n",
    "a=int(input(\"enter first number\"))\n",
    "b=int(input(\"enter second number\"))\n",
    "c=a\n",
    "a=b\n",
    "b=c\n",
    "print(\"swap\",a,b)"
   ]
  },
  {
   "cell_type": "code",
   "execution_count": 7,
   "id": "8bdb4621",
   "metadata": {},
   "outputs": [
    {
     "name": "stdout",
     "output_type": "stream",
     "text": [
      "enter first number10\n",
      "enter second number20\n",
      "swap values 20 10\n"
     ]
    }
   ],
   "source": [
    "#Swap of two numbers\n",
    "a=int(input(\"enter first number\"))\n",
    "b=int(input(\"enter second number\"))\n",
    "a=a+b\n",
    "b=a-b\n",
    "a=a-b\n",
    "print(\"swap values\",a,b)"
   ]
  },
  {
   "cell_type": "markdown",
   "id": "7b1c70ec",
   "metadata": {},
   "source": [
    "# Interest calculation"
   ]
  },
  {
   "cell_type": "code",
   "execution_count": 1,
   "id": "84ac8c6d",
   "metadata": {},
   "outputs": [
    {
     "name": "stdout",
     "output_type": "stream",
     "text": [
      "Principal Amount1000\n",
      "Rate of Interest10\n",
      "year2\n",
      "200.0\n"
     ]
    }
   ],
   "source": [
    "#Interst of two numbers\n",
    "p=int(input(\"Principal Amount\"))\n",
    "r=int(input(\"Rate of Interest\"))\n",
    "t=int(input(\"year\"))\n",
    "Simple_intrest=p*r*t/100\n",
    "print(Simple_intrest)"
   ]
  },
  {
   "cell_type": "markdown",
   "id": "9c8ed2b0",
   "metadata": {
    "scrolled": true
   },
   "source": [
    "# Power of a number"
   ]
  },
  {
   "cell_type": "code",
   "execution_count": 4,
   "id": "a036cc91",
   "metadata": {},
   "outputs": [
    {
     "name": "stdout",
     "output_type": "stream",
     "text": [
      "Enter a number: 5\n",
      "number is  25\n"
     ]
    }
   ],
   "source": [
    "n=int(input(\"Enter a number: \"))\n",
    "a=n*n\n",
    "print(\"number is \",a)"
   ]
  },
  {
   "cell_type": "code",
   "execution_count": 5,
   "id": "b99f22dc",
   "metadata": {},
   "outputs": [
    {
     "name": "stdout",
     "output_type": "stream",
     "text": [
      "Enter a number: 7\n",
      "number is  49\n"
     ]
    }
   ],
   "source": [
    "n=int(input(\"Enter a number: \"))\n",
    "a=n*n\n",
    "print(\"number is \",a)"
   ]
  },
  {
   "cell_type": "markdown",
   "id": "fd3114d7",
   "metadata": {},
   "source": [
    "# Quadratic equation"
   ]
  },
  {
   "cell_type": "code",
   "execution_count": 1,
   "id": "81adfcc5",
   "metadata": {},
   "outputs": [
    {
     "name": "stdout",
     "output_type": "stream",
     "text": [
      "Quadratic equation is ax^2+bx+c=0\n",
      "Enter the value of x: 3\n",
      "Enter value of a: 2\n",
      "Enter value of b: 4\n",
      "Enter value of c: 6\n",
      "Solution of Quadratic equation is   36.0\n"
     ]
    }
   ],
   "source": [
    "print(\"Quadratic equation is ax^2+bx+c=0\")\n",
    "x=int(input(\"Enter the value of x: \"))\n",
    "a=float(input(\"Enter value of a: \"))\n",
    "b=float(input(\"Enter value of b: \"))\n",
    "c=float(input(\"Enter value of c: \"))\n",
    "solution=(a*(x**2)+b*x+c)\n",
    "print(\"Solution of Quadratic equation is  \", solution)"
   ]
  },
  {
   "cell_type": "markdown",
   "id": "79c738cc",
   "metadata": {},
   "source": [
    "# Volume of shapes"
   ]
  },
  {
   "cell_type": "code",
   "execution_count": 8,
   "id": "a0050167",
   "metadata": {},
   "outputs": [
    {
     "name": "stdout",
     "output_type": "stream",
     "text": [
      "Enter the length: 5\n",
      "Enter the breadth: 2\n",
      "Area of rectangle is:  10.0\n"
     ]
    }
   ],
   "source": [
    "#Rectangle\n",
    "l=float(input(\"Enter the length: \"))\n",
    "b=float(input(\"Enter the breadth: \"))\n",
    "Area=l*b\n",
    "print(\"Area of rectangle is: \",Area)"
   ]
  },
  {
   "cell_type": "code",
   "execution_count": 9,
   "id": "e9185365",
   "metadata": {},
   "outputs": [
    {
     "name": "stdout",
     "output_type": "stream",
     "text": [
      "Enter length: 5\n",
      "Area of square is:  25.0\n"
     ]
    }
   ],
   "source": [
    "#Square\n",
    "s=float(input(\"Enter length: \"))\n",
    "Area=s*s\n",
    "print(\"Area of square is: \",Area)"
   ]
  },
  {
   "cell_type": "code",
   "execution_count": 10,
   "id": "0147011d",
   "metadata": {},
   "outputs": [
    {
     "name": "stdout",
     "output_type": "stream",
     "text": [
      "Enter the triangle height: 5\n",
      "Enter the triangle base: 5\n",
      "Area of triangle is:  12.5\n"
     ]
    }
   ],
   "source": [
    "#Triangle\n",
    "h=float(input(\"Enter the triangle height: \"))\n",
    "b=float(input(\"Enter the triangle base: \"))\n",
    "Area=(b*h)/2\n",
    "print(\"Area of triangle is: \",Area)"
   ]
  },
  {
   "cell_type": "code",
   "execution_count": 11,
   "id": "63678c69",
   "metadata": {},
   "outputs": [
    {
     "name": "stdout",
     "output_type": "stream",
     "text": [
      "Enter base length: 5\n",
      "Enter height: 2\n",
      "Area of parallelogram:  10\n"
     ]
    }
   ],
   "source": [
    "#Parallelogram\n",
    "b=int(input(\"Enter base length: \"))\n",
    "h=int(input(\"Enter height: \"))\n",
    "Area=b*h\n",
    "print(\"Area of parallelogram: \",Area)"
   ]
  },
  {
   "cell_type": "markdown",
   "id": "6827481d",
   "metadata": {},
   "source": [
    "# Perimeter calculation"
   ]
  },
  {
   "cell_type": "code",
   "execution_count": 14,
   "id": "f7b3f874",
   "metadata": {},
   "outputs": [
    {
     "name": "stdout",
     "output_type": "stream",
     "text": [
      "Length of side: 10\n",
      "Perimeter is  40\n"
     ]
    }
   ],
   "source": [
    "#Square\n",
    "s=int(input(\"Length of side: \"))\n",
    "P=4*s\n",
    "print(\"Perimeter is \",P)"
   ]
  },
  {
   "cell_type": "code",
   "execution_count": 15,
   "id": "e6c733f5",
   "metadata": {},
   "outputs": [
    {
     "name": "stdout",
     "output_type": "stream",
     "text": [
      "Enter length: 5\n",
      "Enter width: 2\n",
      "Perimeter of rectangle is:  14\n"
     ]
    }
   ],
   "source": [
    "#Rectangle\n",
    "L=int(input(\"Enter length: \"))\n",
    "W=int(input(\"Enter width: \"))\n",
    "P=(2*L)+(2*W)\n",
    "print(\"Perimeter of rectangle is: \",P)"
   ]
  },
  {
   "cell_type": "code",
   "execution_count": 17,
   "id": "700e11a1",
   "metadata": {},
   "outputs": [
    {
     "name": "stdout",
     "output_type": "stream",
     "text": [
      "Enter the values of triangle is: \n",
      "10\n",
      "25\n",
      "12\n",
      "Perimeter of triangle is:  47\n"
     ]
    }
   ],
   "source": [
    "#Triangle\n",
    "print(\"Enter the values of triangle is: \")\n",
    "a=int(input())\n",
    "b=int(input())\n",
    "c=int(input())\n",
    "P=a+b+c\n",
    "print(\"Perimeter of triangle is: \",P)"
   ]
  }
 ],
 "metadata": {
  "kernelspec": {
   "display_name": "Python 3",
   "language": "python",
   "name": "python3"
  },
  "language_info": {
   "codemirror_mode": {
    "name": "ipython",
    "version": 3
   },
   "file_extension": ".py",
   "mimetype": "text/x-python",
   "name": "python",
   "nbconvert_exporter": "python",
   "pygments_lexer": "ipython3",
   "version": "3.8.8"
  }
 },
 "nbformat": 4,
 "nbformat_minor": 5
}
